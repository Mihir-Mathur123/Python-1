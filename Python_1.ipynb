{
  "nbformat": 4,
  "nbformat_minor": 0,
  "metadata": {
    "colab": {
      "provenance": []
    },
    "kernelspec": {
      "name": "python3",
      "display_name": "Python 3"
    },
    "language_info": {
      "name": "python"
    }
  },
  "cells": [
    {
      "cell_type": "code",
      "execution_count": null,
      "metadata": {
        "id": "V7FghWDnuxGc"
      },
      "outputs": [],
      "source": []
    },
    {
      "cell_type": "markdown",
      "source": [
        "Q.1)  Explain the key features of Python that make it a popular choice for programming.\n",
        "\n",
        "Python is one of the most popular programming languages today, and that’s largely due to several key features that make it easy to learn, powerful, and versatile. Here’s a breakdown of what makes Python such a go-to language:\n",
        "\n",
        "1. Simple and Readable Syntax\n",
        "Python code is clear and close to English, which makes it easier to write and understand.\n",
        "\n",
        "Example: print(\"Hello, world!\") is straightforward compared to more complex syntax in other languages.\n",
        "\n",
        "2. Dynamically Typed\n",
        "You don’t have to declare variable types explicitly (x = 5 just works), which speeds up development.\n",
        "\n",
        "3. Python is widely used in the industry,It is easy to learn and use,Python runs line-by-line, making it easier to debug and test code quickly.\n",
        "4.Large Standard Library\n",
        "Python has a lot of libraries like,Panda,NumPy,Django,Flask etc.\n",
        "5.Python can be used in frontend development,Backend development,Data analytics.\n",
        "\n",
        "Q.2)Describe the role of predefined keywords in Python and provide examples of how they are used in a program.\n",
        "\n",
        "Predefined keywords in Python are reserved words that have special meaning to the Python interpreter. You can't use them as variable names, function names, or identifiers because they’re part of the language's core syntax.\n",
        "\n",
        "🔑 Role of Keywords in Python:\n",
        "Define the structure and flow of a Python program.\n",
        "\n",
        "Help specify things like conditions, loops, functions, classes, and more.\n",
        "\n",
        "Make code readable and consistent since their behavior is standard across all Python environments.\n",
        "\n"
      ],
      "metadata": {
        "id": "moskGGUAvNnj"
      }
    },
    {
      "cell_type": "markdown",
      "source": [
        "Example.1-if,else,elif:used for conditional statements.\n",
        "\n",
        "x = 10\n",
        "\n",
        "if x > 5:\n",
        "\n",
        "    print(\"Greater than 5\")\n",
        "elif x == 5:\n",
        "\n",
        "    print(\"Equals 5\")\n",
        "else:\n",
        "    print(\"Less than 5\")\n",
        "    "
      ],
      "metadata": {
        "id": "M3PcExukyHZ9"
      }
    },
    {
      "cell_type": "markdown",
      "source": [
        "2. for, while: used for looping over a sequence(e.g.,list, tuple)\n",
        "                         or running a loop until a condition is met.\n",
        "              #for loop example\n",
        "               for i in range(5):\n",
        "                   print(i)\n",
        "\n",
        "              #while loop example\n",
        "               x= 5\n",
        "               while x>0:\n",
        "                 print(x)\n",
        "                 x -= 1"
      ],
      "metadata": {
        "id": "etae7vvXzleA"
      }
    },
    {
      "cell_type": "markdown",
      "source": [
        "Q,3) Compare and contrast mutable and immutable objects in Python with examples\n",
        "##MUTABLE OBJECTS= In python, mutable objects are those objects that can have their internal state or data change.\n",
        "\n",
        "   Objects are- Lists(you can add, remove or update without creating a new\n",
        "                      list)\n",
        "                Set(elements canbe added or removed as needed)\n",
        "                Dictionaries(values canbe updated or removed\n",
        "                             dynamically)\n",
        "   Pros & cons- #pros-: flexibility,\n",
        "                        in-place modifications.\n",
        "                #cons-: predictability,     \n",
        "                        thread safety.                              \n",
        "   Examples- # list= [1,2,3]\n",
        "               list[1]= 10\n",
        "\n",
        "                output-) [10,2,3]\n",
        "             \n",
        "             # list_cont= [cow,horse,dog,buffalo]\n",
        "               list_cont[3]= \"camel\"\n",
        "                 \n",
        "                 output-) [cow,horse,dog,camel]\n",
        "            \n",
        "IMMUTABLE OBJECTS= Immutable objects are the objects whose state and\n",
        "                    internal data remain unchanged.\n",
        "\n",
        "\n",
        " Objects are- Numbers(int, float and complex numbers are\n",
        "                      immutable)\n",
        "              String(once a string is created, it\n",
        "                     cannot be altered)\n",
        "              Tuple(tuple elements remain\n",
        "                    fixed)\n",
        " Pros & cons- #pros-: thread safety,\n",
        "                      security,\n",
        "                      predictability/readability.\n",
        "              #cons-: memory overhead.\n",
        " Examples- # str= \"hello\"\n",
        "             str[0]= \"H\"\n",
        "\n",
        "             output-) Error(because string object does not support item assignment)\n",
        "\n",
        "           # x= \"Pwskills\"\n",
        "             x[4]= \"Harshit\"\n",
        "\n",
        "             output-) Error*"
      ],
      "metadata": {
        "id": "BitDtvFkzqjI"
      }
    },
    {
      "cell_type": "markdown",
      "source": [
        "Q.4)Discuss the different types of operators in Python and provide examples of how they are used.\n",
        "==)) There are various types of operators, which canbe described below:- # Types of operators in python- Operators in python are special keywords to perform operators to manage and computation.\n",
        "\n",
        "a) Comparison Operator= They are used to compare two values and return a boolean value; true or false.\n",
        "\n",
        " Operator: >\n",
        " Meaning: greater than\n",
        " Syntax: a>b (TRUE, if the value of left is greater than right)\n",
        "\n",
        " Operator: <\n",
        " Meaning: less than\n",
        " Syntax: a<b (TRUE, if the value of left is less than right)\n",
        "\n",
        " Operator: ==\n",
        " Meaning: equal to\n",
        " Syntax: a==b (equal if both values are same)\n",
        "\n",
        " Operator: !=\n",
        " Meaning: not equal to\n",
        " Syntax: a!=b (TRUE, if values are not equal)\n",
        "\n",
        " Operator: >=\n",
        " Meaning: greater than or equal to\n",
        " Syntax: a>=b (TRUE, if left value is greater than or equal to the right)\n",
        "\n",
        " Operator: <=\n",
        " Meaning: less than or equal to\n",
        " Syntax: a<=b (TRUE, if the left value is less than or equal to the right)\n",
        "Example=) x= 5, y=9 #print(x<y) #print(x>y) #print(x==y) #print(x!=y) #print(x>=y) #print(x<=y)\n",
        "\n",
        "       output-: True\n",
        "                False\n",
        "                False\n",
        "                True\n",
        "                False\n",
        "                True\n",
        "                \n",
        "b) Logical Operator= Here you logically decide on its. There are two types of logical operators- and, or.\n",
        "\n",
        "Operator: and Meaning: logical AND Syntax: a and b (TRUE, if both the values are true)\n",
        "\n",
        "Operator: or Meaning: logical OR Syntax: a or b (TRUE, if either of the values is true)\n",
        "\n",
        "Examples=) #print(x and y) #print(x or Y)\n",
        "\n",
        "        output-: False\n",
        "                 True\n",
        "c) Not Operator= which is not equal to.\n",
        "\n",
        "Operator: not Meaning: logical NOT Syntax: not a (TRUE, if the value is false)\n",
        "\n",
        "Examples=) #print(not x) output-: False\n",
        "\n",
        "d) Assignment Operator= These operator are used in python to assign value to variables.\n",
        "\n",
        "Operator: += Meaning: add the value on RHS to the left Syntax: a+=b\n",
        "\n",
        "Operator: -= Meaning: subtract the value on RHS to the left Syntax: a-=b\n",
        "\n",
        "Operator: = Meaning: multiply the value on RHS with the left Syntax: a=b\n",
        "\n",
        "Operator: /= Meaning: divide the value on RHS with the left Syntax: a/=b\n",
        "\n",
        "Operator: = Meaning: assign the value on RHS to the left Syntax: a=b*c\n",
        "\n",
        "Examples=) x=5 , y=9 #x+=y, print(x) #x-=y, print(x) #x*=y, print(x) #x/-y, print(x)\n",
        "\n",
        "           output-: 14\n",
        "                    -4\n",
        "                    45\n",
        "                    0.555555556\n",
        "e) Membership Operator= They are used to check if a value is a present in a sequence. They are of two kinds: \"in\" and \"not in\".\n",
        "\n",
        "Operator: in\n",
        "Meaning: TRUE, if the value is present in the sequence\n",
        "\n",
        "Operator: not in\n",
        "Meaning: TRUE, if the value is not present in the sequence\n",
        "\n",
        "\n",
        "Example=) x=3,    y= [1,2,3,4,5]\n",
        "          #print(x in y)\n",
        "          #print(x not in y)\n",
        "\n",
        "           output-: True\n",
        "                    False\n",
        "f)Identity Operator= It compares the location of two object/variables. They are of two kinds: \"is\" and \"is not\".\n",
        "\n",
        "Operator: is Meaning: TRUE, if the operators are identical\n",
        "\n",
        "Operator: is not Meaning: TRUE, if the operators are not identical\n",
        "\n",
        "Examples=) x=5, y=9 #print(x is y) #print(x is x) #print(x is not y) #print(x is not x)\n",
        "\n",
        "            output-: False\n",
        "                     True\n",
        "                     True\n",
        "                     False\n",
        "g) Bitwise Operator= Operations at bit level, manipulating individuals bits within integar.\n",
        "\n",
        "Operator: & Meaning: bitwise AND Syntax: a&b\n",
        "\n",
        "Operator: | Meaning: bitwise OR Syntax: a|b\n",
        "\n",
        "Operator: ~ Meaning: bitwise NOT Syntax: a~b\n",
        "\n",
        "Operator: ^ Meaning: bitwise XOR Syntax: a^b\n",
        "\n",
        "Operator: >> Meaning: bitwise right shift Syntax: a>>b\n",
        "\n",
        "Operator: << Meaning: bitwise left shift Syntax: a<<b\n",
        "\n",
        "Example=) x=3, y=9 #print(x&y) #print(x|y) #print(~x) #print(x^y) #print(x>>y) #print(x<<y)\n",
        "\n",
        "         output-: 1\n",
        "                  11\n",
        "                  -4\n",
        "                  10\n",
        "                  0\n",
        "                  1536\n",
        "h) Arithmetic Operator= Arithmetic operators are used to perform different mathematical operations such as addition, multiplication,division, subtraction, etc.\n",
        "\n",
        "Operator: + Meaning: add two symbols Syntax: a+b\n",
        "\n",
        "Operator: - Meaning: subtracts two symbols Syntax: a-b\n",
        "\n",
        "Operator: * Meaning: multiplies two values Syntax: a*b\n",
        "\n",
        "Operator: / Meaning: divides two values Syntax: a/b\n",
        "\n",
        "Example=) x=3, y=9 #print(x+y) #print(x-y) #print(x*y) #print(x/y)\n",
        "\n",
        "          output-: 12\n",
        "                   -6\n",
        "                   27\n",
        "                   0.333333333\n"
      ],
      "metadata": {
        "id": "fAJYWN7N1ZL9"
      }
    },
    {
      "cell_type": "markdown",
      "source": [
        "Q.5)Explain the concept of type casting in Python with examples\n",
        "==)) Type-Casting= Type casting, also known as type conversion, is the process of changing the data type of a value/object.\n",
        "\n",
        "Examples--\n",
        "\n",
        "## Type casting string into integar=\n",
        "             x= 46\n",
        "             y= 33\n",
        "             int(x)+y\n",
        "            Output: 79\n",
        "            Input:  x= \"46\"\n",
        "                    print(type(x))\n",
        "                    print(type(int(x)))\n",
        "            Output: <class'str'>\n",
        "                    <class'int'>\n",
        "\n",
        "\n",
        "## Type casting integar to float=\n",
        "             x= 46\n",
        "             type(x)\n",
        "            Output: int\n",
        "            Input:  y= float(x)\n",
        "                    y\n",
        "            Output: 46.0\n",
        "            Input:  type(y)\n",
        "            Output: float\n",
        "\n",
        "      \n",
        "## Type casting float to integar=\n",
        "           #  x= 46.20\n",
        "             type(x)\n",
        "            Output: float\n",
        "            Input:  int(x)\n",
        "            Output: 46\n",
        "          #   y= 33.78\n",
        "              type(y)\n",
        "              float_value= int(y)\n",
        "              type(float_value)\n",
        "            Output: int\n",
        "\n",
        "\n",
        "## Type casting integar to string=\n",
        "              x= 46\n",
        "              type(x)\n",
        "            Output: int\n",
        "            Input:  x\n",
        "            Output: 46\n",
        "            Input:  str(x)\n",
        "            Output: '46'\n",
        "\n",
        "\n",
        "## Type casting string to float=\n",
        "              x= \"33.3\"\n",
        "              type(x)\n",
        "            Output: str\n",
        "            Input:  y= float(x)\n",
        "                    type(y)\n",
        "            Output: 33.3\n",
        "=) Two types of type-casting/conversion= Implicit and Explicit Type Casting.\n",
        "\n",
        "# Implicit Type-Casting: python understand the data type.\n",
        "\n",
        "# Explicit Type-Casting: convert data type using in-built functions. In-built functions are string, integar, float, boolean, etc."
      ],
      "metadata": {
        "id": "Rm1fAhJe2P2q"
      }
    },
    {
      "cell_type": "markdown",
      "source": [],
      "metadata": {
        "id": "c5rWUqDi3rB8"
      }
    },
    {
      "cell_type": "markdown",
      "source": [
        "Q.6)How do conditional statements work in Python? Illustrate with examples\n",
        "Conditional statements in Python allow you to execute different blocks of code depending on whether a condition is true or false. They are essential for controlling the flow of your program.\n",
        "\n",
        "1. Basic if Statement"
      ],
      "metadata": {
        "id": "Je1-uxSj5N1m"
      }
    },
    {
      "cell_type": "code",
      "source": [
        "x = 10\n",
        "\n",
        "if x > 5:\n",
        "    print(\"x is greater than 5\")\n"
      ],
      "metadata": {
        "colab": {
          "base_uri": "https://localhost:8080/"
        },
        "id": "6PHQZzhJ5XPX",
        "outputId": "c7ca73c6-c002-4f3a-e90b-b4f3f77369a7"
      },
      "execution_count": 4,
      "outputs": [
        {
          "output_type": "stream",
          "name": "stdout",
          "text": [
            "x is greater than 5\n"
          ]
        }
      ]
    },
    {
      "cell_type": "markdown",
      "source": [
        "Here, the condition x > 5 is true, so the indented block is executed."
      ],
      "metadata": {
        "id": "YeDpsxwC5ie4"
      }
    },
    {
      "cell_type": "markdown",
      "source": [
        "2. if-else Statement"
      ],
      "metadata": {
        "id": "sECZQplo5mig"
      }
    },
    {
      "cell_type": "code",
      "source": [
        "x = 3\n",
        "\n",
        "if x > 5:\n",
        "    print(\"x is greater than 5\")\n",
        "else:\n",
        "    print(\"x is not greater than 5\")\n"
      ],
      "metadata": {
        "colab": {
          "base_uri": "https://localhost:8080/"
        },
        "id": "ia1J9At65ouC",
        "outputId": "c3a6c7b7-d140-4b8f-98f3-043101b1c6ff"
      },
      "execution_count": 5,
      "outputs": [
        {
          "output_type": "stream",
          "name": "stdout",
          "text": [
            "x is not greater than 5\n"
          ]
        }
      ]
    },
    {
      "cell_type": "markdown",
      "source": [
        "3.if-elif-else Statement"
      ],
      "metadata": {
        "id": "3sUlKuDD5tri"
      }
    },
    {
      "cell_type": "code",
      "source": [
        "x = 5\n",
        "\n",
        "if x > 5:\n",
        "    print(\"x is greater than 5\")\n",
        "elif x == 5:\n",
        "    print(\"x is equal to 5\")\n",
        "else:\n",
        "    print(\"x is less than 5\")\n"
      ],
      "metadata": {
        "colab": {
          "base_uri": "https://localhost:8080/"
        },
        "id": "dfKU5B2b5xga",
        "outputId": "68f2c20a-054f-461e-a3b8-6c07cbc91c89"
      },
      "execution_count": 6,
      "outputs": [
        {
          "output_type": "stream",
          "name": "stdout",
          "text": [
            "x is equal to 5\n"
          ]
        }
      ]
    },
    {
      "cell_type": "markdown",
      "source": [
        "4.Nested if Statements"
      ],
      "metadata": {
        "id": "pcf_z2AS507j"
      }
    },
    {
      "cell_type": "code",
      "source": [
        "x = 10\n",
        "y = 20\n",
        "\n",
        "if x > 5:\n",
        "    if y > 15:\n",
        "        print(\"x is > 5 and y is > 15\")\n"
      ],
      "metadata": {
        "colab": {
          "base_uri": "https://localhost:8080/"
        },
        "id": "4qbIm_eB54ia",
        "outputId": "b5dd9e82-248e-40b7-f806-496a7afe3267"
      },
      "execution_count": 7,
      "outputs": [
        {
          "output_type": "stream",
          "name": "stdout",
          "text": [
            "x is > 5 and y is > 15\n"
          ]
        }
      ]
    },
    {
      "cell_type": "markdown",
      "source": [
        "5.Using Logical Operators"
      ],
      "metadata": {
        "id": "spMIh5mg58h0"
      }
    },
    {
      "cell_type": "code",
      "source": [
        "x = 7\n",
        "\n",
        "if x > 5 and x < 10:\n",
        "    print(\"x is between 5 and 10\")\n"
      ],
      "metadata": {
        "colab": {
          "base_uri": "https://localhost:8080/"
        },
        "id": "K-wVXhni5-e7",
        "outputId": "f698f87a-52f4-4202-d447-b265cf74d1cd"
      },
      "execution_count": 8,
      "outputs": [
        {
          "output_type": "stream",
          "name": "stdout",
          "text": [
            "x is between 5 and 10\n"
          ]
        }
      ]
    },
    {
      "cell_type": "markdown",
      "source": [
        "Q.7) Describe the different types of loops in Python and their use cases with examples.\n",
        "==)) LOOPS= A loop is an instruction that repeats multiple times as long as\n",
        "some condition is met. Loops in python example: for i in range(10): print(i) Output: 0 1 2 3 4 5 6 7 8 9\n",
        "\n",
        "Different types of loops= Python has two main loops: 'for' and 'while'.\n",
        "  Their programming uses are unique from each other.\n",
        "     a.) FOR LOOP: It works best when looping types of sequences like  \n",
        "                   lists, tuples, dictionaries, python sets, and strings.\n",
        "     b.) WHILE LOOP: It acts as long as the condition remains true.\n",
        "a.) Syntax of python for loop. for variable in sequence: #perform actions using variables\n",
        "\n",
        "   Examples of python for loop.\n",
        "   #   fruits= [\"apple\", \"banana\", \"cherry\"]\n",
        "       for fruit in fruits:\n",
        "           print(fruit)\n",
        "          OUTPUT: apple\n",
        "                  banana\n",
        "                  cherry\n",
        "   #   numbers= [1,2,3,4,5,6,7,8]\n",
        "       for x in numbers:\n",
        "       if (x%2==0):\n",
        "          print(x*x)\n",
        "        OUTPUT: 4\n",
        "                16\n",
        "                36\n",
        "                64\n",
        "   #    a= \"kanika\"\n",
        "        for i in a:\n",
        "            print(i)\n",
        "          OUTPUT: s\n",
        "                  h\n",
        "                  w\n",
        "                  e\n",
        "                  t\n",
        "                  a\n",
        "b.) Syntax of python while loop. Here is the syntax; while condition: # code to execute\n",
        "\n",
        "   Examples of python while loop.\n",
        "   #    count= 0\n",
        "        while count<5\n",
        "              print(count)\n",
        "              count+=1\n",
        "            OUTPUT: 0\n",
        "                    1\n",
        "                    2\n",
        "                    3\n",
        "                    4\n",
        "   #     number=  1\n",
        "         while number<=3:\n",
        "               print(number)\n",
        "               number= number+1\n",
        "              OUTPUT: 1\n",
        "                      2\n",
        "                      3\n",
        "   #     num= 1\n",
        "         while num<=5\n",
        "               print(num,\"John\")\n",
        "               num= num+1\n",
        "            OUTPUT: 1 John\n",
        "                    2 John\n",
        "                    3 John\n",
        "                    4 John\n",
        "                    5 John\n",
        "## Break & Continue loops in for and while.\n",
        "\n",
        "   # BREAK STATEMENT= A break statement is used inside both the for and while loops. It terminates the loop immediately and transfers execution to the new statement after the loop.\n",
        "     For example, have a look at the code and its output below:\n",
        "                  count= 0\n",
        "                  while count<=100:\n",
        "                        print(count)\n",
        "                        count+=1\n",
        "                        if count==3:\n",
        "                           break\n",
        "                          OUTPUT: 0\n",
        "                                  1\n",
        "                                  2\n",
        "\n",
        "    # CONTINUE STATEMENT= The continue statement causes the loop to skip its current execution at some point and move on to the next iteration. Instead of terminating the loop like a break statement, it moves on to the subsequent execution.\n",
        "       Example-:  for i in range(0,5):\n",
        "                      if i==3:\n",
        "                         continue\n",
        "                      print(i)\n",
        "                    OUTPUT: 0\n",
        "                            1\n",
        "                            2\n",
        "                            4"
      ],
      "metadata": {
        "id": "B5QUV_MJ6Aqz"
      }
    }
  ]
}